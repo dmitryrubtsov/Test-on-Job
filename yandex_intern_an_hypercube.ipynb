{
 "cells": [
  {
   "cell_type": "markdown",
   "metadata": {},
   "source": [
    "# Аналитик в Гиперкуб (стажер)\n",
    "https://yandex.ru/jobs/vacancies/interns/intern_an_hypercube/  \n",
    "\n",
    "Вам нужно:\n",
    "+ скачать Access Log серверов NASA за июль 1995 года [отсюда](https://yadi.sk/d/JPx8Chjc6hLHNg);\n",
    "+ распарсить файл в Pandas DataFrame;\n",
    "+ посчитать количество обращений к каждому урлу;\n",
    "+ найти топ-15 самых посещаемых урлов;\n",
    "+ посчитать число запросов в секунду;\n",
    "+ нарисовать график числа запросов в секунду;\n",
    "+ построить гистограмму распределения размеров запросов.  \n",
    "\n",
    "В качестве ответа приложите файл с кодом или Jupyter Notebook."
   ]
  },
  {
   "cell_type": "markdown",
   "metadata": {},
   "source": [
    "+ ## Загрузка Access Log серверов NASA за июль 1995 года [отсюда](https://yadi.sk/d/JPx8Chjc6hLHNg)"
   ]
  },
  {
   "cell_type": "code",
   "execution_count": 1,
   "metadata": {},
   "outputs": [],
   "source": [
    "YANDI_LINK = 'https://yadi.sk/d/JPx8Chjc6hLHNg'\n",
    "API_ENDPOINT = 'https://cloud-api.yandex.net/v1/disk/public/resources/download?public_key={}'\n",
    "FILE_EXTENSION = 'log'"
   ]
  },
  {
   "cell_type": "markdown",
   "metadata": {},
   "source": [
    "### Loading modules"
   ]
  },
  {
   "cell_type": "code",
   "execution_count": 2,
   "metadata": {},
   "outputs": [],
   "source": [
    "import requests"
   ]
  },
  {
   "cell_type": "markdown",
   "metadata": {},
   "source": [
    "### Functions"
   ]
  },
  {
   "cell_type": "code",
   "execution_count": 3,
   "metadata": {},
   "outputs": [],
   "source": [
    "def _get_real_direct_link(sharing_link):\n",
    "    pk_request = requests.get(API_ENDPOINT.format(sharing_link))\n",
    "    return pk_request.json().get('href')\n",
    "\n",
    "\n",
    "def _extract_filename(direct_link):\n",
    "    for chunk in direct_link.strip().split('&'):\n",
    "        if chunk.startswith('filename='):\n",
    "            return chunk.split('=')[1]\n",
    "    return None\n",
    "\n",
    "\n",
    "def download_yadisk_link(sharing_link):\n",
    "    '''Yandex disk link -> name of file(str), file (bytes)'''\n",
    "\n",
    "    direct_link = _get_real_direct_link(sharing_link)\n",
    "    if direct_link:\n",
    "        filename = _extract_filename(direct_link)\n",
    "        download = requests.get(direct_link)\n",
    "        file = download.content\n",
    "        print(f'Download {filename} from {sharing_link}.')\n",
    "        return filename, file\n",
    "    else:\n",
    "        print(f'Failed to download {sharing_link}.')"
   ]
  },
  {
   "cell_type": "markdown",
   "metadata": {},
   "source": [
    "Загрузка Access Log с Яндекс Диска:"
   ]
  },
  {
   "cell_type": "code",
   "execution_count": 4,
   "metadata": {},
   "outputs": [
    {
     "name": "stdout",
     "output_type": "stream",
     "text": [
      "Download access_log_Jul95.log.zip from https://yadi.sk/d/JPx8Chjc6hLHNg.\n"
     ]
    }
   ],
   "source": [
    "filename, yadisk_file = download_yadisk_link(YANDI_LINK)"
   ]
  },
  {
   "cell_type": "markdown",
   "metadata": {},
   "source": [
    "+ ## Распарсить файл в Pandas DataFrame;"
   ]
  },
  {
   "cell_type": "markdown",
   "metadata": {},
   "source": [
    "### Loading modules"
   ]
  },
  {
   "cell_type": "code",
   "execution_count": 5,
   "metadata": {},
   "outputs": [],
   "source": [
    "import pandas as pd\n",
    "import zipfile\n",
    "import io\n",
    "import re\n",
    "from multiprocessing import Pool\n",
    "from multiprocessing.dummy import Pool as ThreadPool"
   ]
  },
  {
   "cell_type": "markdown",
   "metadata": {},
   "source": [
    "### Functions"
   ]
  },
  {
   "cell_type": "code",
   "execution_count": 6,
   "metadata": {},
   "outputs": [],
   "source": [
    "def zipfile_extract(archive, file_extension, is_file=False):\n",
    "    '''zip or zip bytes -> string line'''\n",
    "\n",
    "    if not is_file:\n",
    "        archive = io.BytesIO(archive)\n",
    "\n",
    "    with zipfile.ZipFile(archive) as myzip:\n",
    "        for name in myzip.namelist():\n",
    "            if name.endswith(file_extension) and not name.startswith('__MACOSX'):  # Hi Mac\n",
    "                with myzip.open(name) as file:\n",
    "                    file = io.TextIOWrapper(file, errors='ignore')\n",
    "                    for line in file:\n",
    "                        yield line\n",
    "\n",
    "\n",
    "def count_lines(data, file_extension=None, is_file=False):\n",
    "    '''zip or text in bytes/file -> count lines'''\n",
    "\n",
    "    count_lines = 0\n",
    "\n",
    "    if not is_file:\n",
    "        data = io.BytesIO(data)\n",
    "\n",
    "    with zipfile.ZipFile(data) as zip_file:\n",
    "        for name in zip_file.namelist():\n",
    "            if name.endswith(file_extension) and not name.startswith('__MACOSX'):\n",
    "                print(name)\n",
    "                with zip_file.open(name) as file:\n",
    "                    count_lines += len(file.readlines())\n",
    "\n",
    "    return count_lines\n",
    "\n",
    "\n",
    "def log_parsser(line, regex):\n",
    "\n",
    "    matches = regex.match(line)\n",
    "    if matches:\n",
    "        line_dict = {\n",
    "            'host': matches.group('host'),\n",
    "            'identd': matches.group('identd'),\n",
    "            'userid': matches.group('userid'),\n",
    "            'time': matches.group('time'),\n",
    "            'request_method': matches.group('request_method'),\n",
    "            'request': matches.group('request'),\n",
    "            'protocol': matches.group('protocol'),\n",
    "            'status_code': matches.group('status_code'),\n",
    "            'size_of_object': matches.group('size_of_object')}\n",
    "    else:\n",
    "        print(line)\n",
    "        line_dict = {'host': line}\n",
    "\n",
    "    return line_dict\n",
    "\n",
    "\n",
    "def log_parsser_decorator(args):\n",
    "    return log_parsser(args, regex_comp)\n",
    "\n",
    "\n",
    "def to_datetime(df, format_date):\n",
    "    df = pd.to_datetime(df, format=format_date)\n",
    "    return df\n",
    "\n",
    "\n",
    "def df_optimizing(df):\n",
    "    for col in df.columns:\n",
    "        if df[col].dtypes.kind == 'i' or df[col].dtypes.kind == 'u':\n",
    "            if df[col].min() >= 0:\n",
    "                df[col] = pd.to_numeric(df[col], downcast='unsigned')\n",
    "            else:\n",
    "                df[col] = pd.to_numeric(df[col], downcast='integer')\n",
    "\n",
    "        elif df[col].dtypes.kind == 'f' or df[col].dtypes.kind == 'c':\n",
    "            df[col] = pd.to_numeric(df[col], downcast='float')\n",
    "\n",
    "        elif df[col].dtypes.kind == 'O':\n",
    "            num_unique_values = len(df[col].unique())\n",
    "            num_total_values = len(df[col])\n",
    "            if num_unique_values / num_total_values < 0.5:\n",
    "                df[col] = df[col].astype('category')\n",
    "    return df"
   ]
  },
  {
   "cell_type": "markdown",
   "metadata": {},
   "source": [
    "##  Парсинг Access Log"
   ]
  },
  {
   "cell_type": "markdown",
   "metadata": {},
   "source": [
    "[About Access Log](http://httpd.apache.org/docs/2.0/logs.html#accesslog)"
   ]
  },
  {
   "cell_type": "markdown",
   "metadata": {},
   "source": [
    "[Identification Protocol](https://tools.ietf.org/html/rfc1413)  \n",
    "[HTTP Authentication ](https://tools.ietf.org/html/rfc2617)  \n",
    "[Hypertext Transfer Protocol](https://tools.ietf.org/html/rfc2616)  \n",
    "[Method](https://tools.ietf.org/html/rfc2616#section-5.1.1)  \n",
    "[Hypertext Transfer Protocol Version](https://en.wikipedia.org/wiki/Hypertext_Transfer_Protocol#History)  \n",
    "[Status Code](https://tools.ietf.org/html/rfc2616#section-6.1.1)  "
   ]
  },
  {
   "cell_type": "markdown",
   "metadata": {},
   "source": [
    "Количество количество строк в Access Log:"
   ]
  },
  {
   "cell_type": "code",
   "execution_count": 7,
   "metadata": {},
   "outputs": [
    {
     "name": "stdout",
     "output_type": "stream",
     "text": [
      "access_log_Jul95.log\n",
      "Количество строк в Access Log: 1891715\n"
     ]
    }
   ],
   "source": [
    "if not filename.endswith(FILE_EXTENSION):\n",
    "    print(f'Количество строк в Access Log: {count_lines(yadisk_file, FILE_EXTENSION)}')"
   ]
  },
  {
   "cell_type": "markdown",
   "metadata": {},
   "source": [
    "### Regular expression"
   ]
  },
  {
   "cell_type": "markdown",
   "metadata": {},
   "source": [
    "[Online regex tester](https://regex101.com/r/lTYzqc/4)"
   ]
  },
  {
   "cell_type": "code",
   "execution_count": 8,
   "metadata": {},
   "outputs": [],
   "source": [
    "REGEX_PATTERN = r'(?P<host>.*?)\\s(?P<identd>[\\w,:\\s]|-)\\s(?P<userid>[\\w]+|-)\\s\\[(?P<time>\\d{1,2}\\/(\\w{3}|\\d{2})\\/\\d{2,4}(:\\d{2}){3}\\s-?\\d{4})\\]\\s\\\"(?P<request_method>OPTIONS|GET|HEAD|POST|PUT|DELETE|TRACE|CONNECT)?\\s?(?P<request>.*?)\\s?(?P<protocol>HTTP\\/\\d\\.\\d)?\\\"\\s((?P<status_code>\\d{3})|(-))\\s((?P<size_of_object>\\d+)|(-))'"
   ]
  },
  {
   "cell_type": "code",
   "execution_count": 9,
   "metadata": {},
   "outputs": [],
   "source": [
    "regex_comp = re.compile(REGEX_PATTERN)"
   ]
  },
  {
   "cell_type": "markdown",
   "metadata": {},
   "source": [
    "## CPU Info"
   ]
  },
  {
   "cell_type": "code",
   "execution_count": 10,
   "metadata": {},
   "outputs": [
    {
     "name": "stdout",
     "output_type": "stream",
     "text": [
      "Архитектура:                     x86_64\n",
      "CPU op-mode(s):                  32-bit, 64-bit\n",
      "Порядок байт:                    Little Endian\n",
      "Address sizes:                   39 bits physical, 48 bits virtual\n",
      "CPU(s):                          12\n",
      "On-line CPU(s) list:             0-11\n",
      "Thread(s) per core:              2\n",
      "Ядер на сокет:                   6\n",
      "Сокетов:                         1\n",
      "NUMA node(s):                    1\n",
      "ID прроизводителя:               GenuineIntel\n",
      "Семейство ЦПУ:                   6\n",
      "Модель:                          158\n",
      "Имя модели:                      Intel(R) Core(TM) i7-8700K CPU @ 3.70GHz\n",
      "Степпинг:                        10\n",
      "CPU MHz:                         4490.678\n",
      "CPU max MHz:                     4700,0000\n",
      "CPU min MHz:                     800,0000\n",
      "BogoMIPS:                        7394.00\n",
      "Виртуализация:                   VT-x\n",
      "L1d cache:                       192 KiB\n",
      "L1i cache:                       192 KiB\n",
      "L2 cache:                        1,5 MiB\n",
      "L3 cache:                        12 MiB\n",
      "NUMA node0 CPU(s):               0-11\n",
      "Vulnerability L1tf:              Mitigation; PTE Inversion; VMX conditional cache flushes, SMT vulnerable\n",
      "Vulnerability Mds:               Mitigation; Clear CPU buffers; SMT vulnerable\n",
      "Vulnerability Meltdown:          Mitigation; PTI\n",
      "Vulnerability Spec store bypass: Mitigation; Speculative Store Bypass disabled via prctl and seccomp\n",
      "Vulnerability Spectre v1:        Mitigation; __user pointer sanitization\n",
      "Vulnerability Spectre v2:        Mitigation; Full generic retpoline, IBPB conditional, IBRS_FW, STIBP conditional, RSB filling\n",
      "Флаги:                           fpu vme de pse tsc msr pae mce cx8 apic sep mtrr pge mca cmov pat pse36 clflush dts acpi mmx fxsr sse sse2 ss ht tm pbe syscall nx pdpe1gb rdtscp lm constant_tsc art arch_perfmon pebs bts rep_good nopl xtopology nonstop_tsc cpuid aperfmperf tsc_known_freq pni pclmulqdq dtes64 monitor ds_cpl vmx smx est tm2 ssse3 sdbg fma cx16 xtpr pdcm pcid sse4_1 sse4_2 x2apic movbe popcnt tsc_deadline_timer aes xsave avx f16c rdrand lahf_lm abm 3dnowprefetch cpuid_fault epb invpcid_single pti ssbd ibrs ibpb stibp tpr_shadow vnmi flexpriority ept vpid ept_ad fsgsbase tsc_adjust bmi1 hle avx2 smep bmi2 erms invpcid rtm mpx rdseed adx smap clflushopt intel_pt xsaveopt xsavec xgetbv1 xsaves dtherm ida arat pln pts hwp hwp_notify hwp_act_window hwp_epp md_clear flush_l1d\n"
     ]
    }
   ],
   "source": [
    "import subprocess\n",
    "print((subprocess.check_output('lscpu', shell=True).strip()).decode())"
   ]
  },
  {
   "cell_type": "markdown",
   "metadata": {},
   "source": [
    "## Вариант 1. Парсинг одним процессом одиним потоком"
   ]
  },
  {
   "cell_type": "markdown",
   "metadata": {},
   "source": [
    "### Распаковка zip-архива"
   ]
  },
  {
   "cell_type": "code",
   "execution_count": 11,
   "metadata": {},
   "outputs": [],
   "source": [
    "if filename.endswith('zip'):\n",
    "    log_data = zipfile_extract(yadisk_file, FILE_EXTENSION)"
   ]
  },
  {
   "cell_type": "markdown",
   "metadata": {},
   "source": [
    "### Парсинг Access Log"
   ]
  },
  {
   "cell_type": "code",
   "execution_count": 12,
   "metadata": {},
   "outputs": [
    {
     "name": "stdout",
     "output_type": "stream",
     "text": [
      "alyssa.p\n",
      "CPU times: user 8.18 s, sys: 315 ms, total: 8.5 s\n",
      "Wall time: 8.46 s\n"
     ]
    }
   ],
   "source": [
    "%%time\n",
    "\n",
    "log_list = []\n",
    "\n",
    "for line in log_data:\n",
    "    log_list.append(log_parsser(line, regex_comp))"
   ]
  },
  {
   "cell_type": "markdown",
   "metadata": {},
   "source": [
    "## Вариант 2. Парсинг несколькими процессами."
   ]
  },
  {
   "cell_type": "markdown",
   "metadata": {},
   "source": [
    "### Распаковка zip-архива"
   ]
  },
  {
   "cell_type": "code",
   "execution_count": 13,
   "metadata": {},
   "outputs": [],
   "source": [
    "if filename.endswith('zip'):\n",
    "    log_data = zipfile_extract(yadisk_file, FILE_EXTENSION)"
   ]
  },
  {
   "cell_type": "markdown",
   "metadata": {},
   "source": [
    "### Парсинг Access Log"
   ]
  },
  {
   "cell_type": "code",
   "execution_count": 14,
   "metadata": {},
   "outputs": [
    {
     "name": "stdout",
     "output_type": "stream",
     "text": [
      "alyssa.p\n",
      "CPU times: user 2.94 s, sys: 1.06 s, total: 4 s\n",
      "Wall time: 4.27 s\n"
     ]
    }
   ],
   "source": [
    "%%time\n",
    "\n",
    "pool_process = Pool()\n",
    "\n",
    "log_list = pool_process.map(log_parsser_decorator, log_data)"
   ]
  },
  {
   "cell_type": "markdown",
   "metadata": {},
   "source": [
    "## Вариант 3. Парсинг одним процессом в несколько потоков (thread)."
   ]
  },
  {
   "cell_type": "markdown",
   "metadata": {},
   "source": [
    "### Распаковка zip-архива"
   ]
  },
  {
   "cell_type": "code",
   "execution_count": 15,
   "metadata": {},
   "outputs": [],
   "source": [
    "if filename.endswith('zip'):\n",
    "    log_data = zipfile_extract(yadisk_file, FILE_EXTENSION)"
   ]
  },
  {
   "cell_type": "markdown",
   "metadata": {},
   "source": [
    "### Парсинг Access Log"
   ]
  },
  {
   "cell_type": "code",
   "execution_count": 16,
   "metadata": {},
   "outputs": [
    {
     "name": "stdout",
     "output_type": "stream",
     "text": [
      "alyssa.p\n",
      "CPU times: user 14.6 s, sys: 844 ms, total: 15.4 s\n",
      "Wall time: 15 s\n"
     ]
    }
   ],
   "source": [
    "%%time\n",
    "\n",
    "pool_thread = ThreadPool()\n",
    "\n",
    "log_list = pool_thread.map(log_parsser_decorator, log_data)"
   ]
  },
  {
   "cell_type": "markdown",
   "metadata": {},
   "source": [
    "### Удаление скачанного файла"
   ]
  },
  {
   "cell_type": "code",
   "execution_count": 17,
   "metadata": {},
   "outputs": [],
   "source": [
    "del yadisk_file"
   ]
  },
  {
   "cell_type": "markdown",
   "metadata": {},
   "source": [
    "## Создание DataFrame"
   ]
  },
  {
   "cell_type": "code",
   "execution_count": 18,
   "metadata": {},
   "outputs": [
    {
     "name": "stdout",
     "output_type": "stream",
     "text": [
      "<class 'pandas.core.frame.DataFrame'>\n",
      "RangeIndex: 1891715 entries, 0 to 1891714\n",
      "Data columns (total 9 columns):\n",
      "host              object\n",
      "identd            object\n",
      "protocol          object\n",
      "request           object\n",
      "request_method    object\n",
      "size_of_object    object\n",
      "status_code       object\n",
      "time              object\n",
      "userid            object\n",
      "dtypes: object(9)\n",
      "memory usage: 129.9+ MB\n",
      "CPU times: user 2.12 s, sys: 52.1 ms, total: 2.17 s\n",
      "Wall time: 2.22 s\n"
     ]
    }
   ],
   "source": [
    "%%time\n",
    "df = pd.DataFrame(log_list)\n",
    "df.info()"
   ]
  },
  {
   "cell_type": "code",
   "execution_count": 19,
   "metadata": {},
   "outputs": [],
   "source": [
    "col_list = [\n",
    "    'host',\n",
    "    'identd',\n",
    "    'userid',\n",
    "    'time',\n",
    "    'request_method',\n",
    "    'request',\n",
    "    'protocol',\n",
    "    'status_code',\n",
    "    'size_of_object'\n",
    "]"
   ]
  },
  {
   "cell_type": "code",
   "execution_count": 20,
   "metadata": {},
   "outputs": [
    {
     "data": {
      "text/html": [
       "<div>\n",
       "<style scoped>\n",
       "    .dataframe tbody tr th:only-of-type {\n",
       "        vertical-align: middle;\n",
       "    }\n",
       "\n",
       "    .dataframe tbody tr th {\n",
       "        vertical-align: top;\n",
       "    }\n",
       "\n",
       "    .dataframe thead th {\n",
       "        text-align: right;\n",
       "    }\n",
       "</style>\n",
       "<table border=\"1\" class=\"dataframe\">\n",
       "  <thead>\n",
       "    <tr style=\"text-align: right;\">\n",
       "      <th></th>\n",
       "      <th>host</th>\n",
       "      <th>identd</th>\n",
       "      <th>userid</th>\n",
       "      <th>time</th>\n",
       "      <th>request_method</th>\n",
       "      <th>request</th>\n",
       "      <th>protocol</th>\n",
       "      <th>status_code</th>\n",
       "      <th>size_of_object</th>\n",
       "    </tr>\n",
       "  </thead>\n",
       "  <tbody>\n",
       "    <tr>\n",
       "      <th>0</th>\n",
       "      <td>199.72.81.55</td>\n",
       "      <td>-</td>\n",
       "      <td>-</td>\n",
       "      <td>01/Jul/1995:00:00:01 -0400</td>\n",
       "      <td>GET</td>\n",
       "      <td>/history/apollo/</td>\n",
       "      <td>HTTP/1.0</td>\n",
       "      <td>200</td>\n",
       "      <td>6245</td>\n",
       "    </tr>\n",
       "    <tr>\n",
       "      <th>1</th>\n",
       "      <td>unicomp6.unicomp.net</td>\n",
       "      <td>-</td>\n",
       "      <td>-</td>\n",
       "      <td>01/Jul/1995:00:00:06 -0400</td>\n",
       "      <td>GET</td>\n",
       "      <td>/shuttle/countdown/</td>\n",
       "      <td>HTTP/1.0</td>\n",
       "      <td>200</td>\n",
       "      <td>3985</td>\n",
       "    </tr>\n",
       "    <tr>\n",
       "      <th>2</th>\n",
       "      <td>199.120.110.21</td>\n",
       "      <td>-</td>\n",
       "      <td>-</td>\n",
       "      <td>01/Jul/1995:00:00:09 -0400</td>\n",
       "      <td>GET</td>\n",
       "      <td>/shuttle/missions/sts-73/mission-sts-73.html</td>\n",
       "      <td>HTTP/1.0</td>\n",
       "      <td>200</td>\n",
       "      <td>4085</td>\n",
       "    </tr>\n",
       "    <tr>\n",
       "      <th>3</th>\n",
       "      <td>burger.letters.com</td>\n",
       "      <td>-</td>\n",
       "      <td>-</td>\n",
       "      <td>01/Jul/1995:00:00:11 -0400</td>\n",
       "      <td>GET</td>\n",
       "      <td>/shuttle/countdown/liftoff.html</td>\n",
       "      <td>HTTP/1.0</td>\n",
       "      <td>304</td>\n",
       "      <td>0</td>\n",
       "    </tr>\n",
       "    <tr>\n",
       "      <th>4</th>\n",
       "      <td>199.120.110.21</td>\n",
       "      <td>-</td>\n",
       "      <td>-</td>\n",
       "      <td>01/Jul/1995:00:00:11 -0400</td>\n",
       "      <td>GET</td>\n",
       "      <td>/shuttle/missions/sts-73/sts-73-patch-small.gif</td>\n",
       "      <td>HTTP/1.0</td>\n",
       "      <td>200</td>\n",
       "      <td>4179</td>\n",
       "    </tr>\n",
       "  </tbody>\n",
       "</table>\n",
       "</div>"
      ],
      "text/plain": [
       "                   host identd userid                        time  \\\n",
       "0          199.72.81.55      -      -  01/Jul/1995:00:00:01 -0400   \n",
       "1  unicomp6.unicomp.net      -      -  01/Jul/1995:00:00:06 -0400   \n",
       "2        199.120.110.21      -      -  01/Jul/1995:00:00:09 -0400   \n",
       "3    burger.letters.com      -      -  01/Jul/1995:00:00:11 -0400   \n",
       "4        199.120.110.21      -      -  01/Jul/1995:00:00:11 -0400   \n",
       "\n",
       "  request_method                                          request  protocol  \\\n",
       "0            GET                                 /history/apollo/  HTTP/1.0   \n",
       "1            GET                              /shuttle/countdown/  HTTP/1.0   \n",
       "2            GET     /shuttle/missions/sts-73/mission-sts-73.html  HTTP/1.0   \n",
       "3            GET                  /shuttle/countdown/liftoff.html  HTTP/1.0   \n",
       "4            GET  /shuttle/missions/sts-73/sts-73-patch-small.gif  HTTP/1.0   \n",
       "\n",
       "  status_code size_of_object  \n",
       "0         200           6245  \n",
       "1         200           3985  \n",
       "2         200           4085  \n",
       "3         304              0  \n",
       "4         200           4179  "
      ]
     },
     "execution_count": 20,
     "metadata": {},
     "output_type": "execute_result"
    }
   ],
   "source": [
    "df = df[col_list]\n",
    "df.head()"
   ]
  },
  {
   "cell_type": "markdown",
   "metadata": {},
   "source": [
    "### Удаление данных log_list"
   ]
  },
  {
   "cell_type": "code",
   "execution_count": 21,
   "metadata": {},
   "outputs": [],
   "source": [
    "del log_list"
   ]
  },
  {
   "cell_type": "markdown",
   "metadata": {},
   "source": [
    "### Преобразование типов данных"
   ]
  },
  {
   "cell_type": "code",
   "execution_count": 22,
   "metadata": {},
   "outputs": [],
   "source": [
    "format_date = '%d/%b/%Y:%H:%M:%S %z'"
   ]
  },
  {
   "cell_type": "code",
   "execution_count": 23,
   "metadata": {},
   "outputs": [
    {
     "name": "stdout",
     "output_type": "stream",
     "text": [
      "<class 'pandas.core.frame.DataFrame'>\n",
      "RangeIndex: 1891715 entries, 0 to 1891714\n",
      "Data columns (total 9 columns):\n",
      "host              object\n",
      "identd            object\n",
      "userid            object\n",
      "time              datetime64[ns, pytz.FixedOffset(-240)]\n",
      "request_method    object\n",
      "request           object\n",
      "protocol          object\n",
      "status_code       object\n",
      "size_of_object    float64\n",
      "dtypes: datetime64[ns, pytz.FixedOffset(-240)](1), float64(1), object(7)\n",
      "memory usage: 129.9+ MB\n"
     ]
    }
   ],
   "source": [
    "df['time'] = to_datetime(df['time'], format_date)\n",
    "df['size_of_object'] = pd.to_numeric(df['size_of_object'], errors='coerce')\n",
    "df.info()"
   ]
  },
  {
   "cell_type": "markdown",
   "metadata": {},
   "source": [
    "### Оптимизация размера DateFrame"
   ]
  },
  {
   "cell_type": "code",
   "execution_count": 24,
   "metadata": {},
   "outputs": [
    {
     "name": "stdout",
     "output_type": "stream",
     "text": [
      "<class 'pandas.core.frame.DataFrame'>\n",
      "RangeIndex: 1891715 entries, 0 to 1891714\n",
      "Data columns (total 9 columns):\n",
      "host              object\n",
      "identd            object\n",
      "userid            object\n",
      "time              datetime64[ns, pytz.FixedOffset(-240)]\n",
      "request_method    object\n",
      "request           object\n",
      "protocol          object\n",
      "status_code       object\n",
      "size_of_object    float64\n",
      "dtypes: datetime64[ns, pytz.FixedOffset(-240)](1), float64(1), object(7)\n",
      "memory usage: 867.1 MB\n"
     ]
    }
   ],
   "source": [
    "df.info(memory_usage='deep')"
   ]
  },
  {
   "cell_type": "code",
   "execution_count": 25,
   "metadata": {},
   "outputs": [],
   "source": [
    "df = df_optimizing(df)"
   ]
  },
  {
   "cell_type": "code",
   "execution_count": 26,
   "metadata": {},
   "outputs": [
    {
     "name": "stdout",
     "output_type": "stream",
     "text": [
      "<class 'pandas.core.frame.DataFrame'>\n",
      "RangeIndex: 1891715 entries, 0 to 1891714\n",
      "Data columns (total 9 columns):\n",
      "host              category\n",
      "identd            category\n",
      "userid            category\n",
      "time              datetime64[ns, pytz.FixedOffset(-240)]\n",
      "request_method    category\n",
      "request           category\n",
      "protocol          category\n",
      "status_code       category\n",
      "size_of_object    float32\n",
      "dtypes: category(7), datetime64[ns, pytz.FixedOffset(-240)](1), float32(1)\n",
      "memory usage: 52.4 MB\n"
     ]
    }
   ],
   "source": [
    "df.info(memory_usage='deep')"
   ]
  },
  {
   "cell_type": "markdown",
   "metadata": {},
   "source": [
    "## Посчитать количество обращений к каждому урлу"
   ]
  },
  {
   "cell_type": "code",
   "execution_count": 27,
   "metadata": {},
   "outputs": [],
   "source": [
    "url_count = df.groupby('request') \\\n",
    "              .agg({'request_method': 'count'}) \\\n",
    "              .rename(columns={'request_method': 'count'}) \\\n",
    "              .reset_index()"
   ]
  },
  {
   "cell_type": "code",
   "execution_count": 28,
   "metadata": {},
   "outputs": [
    {
     "data": {
      "text/html": [
       "<div>\n",
       "<style scoped>\n",
       "    .dataframe tbody tr th:only-of-type {\n",
       "        vertical-align: middle;\n",
       "    }\n",
       "\n",
       "    .dataframe tbody tr th {\n",
       "        vertical-align: top;\n",
       "    }\n",
       "\n",
       "    .dataframe thead th {\n",
       "        text-align: right;\n",
       "    }\n",
       "</style>\n",
       "<table border=\"1\" class=\"dataframe\">\n",
       "  <thead>\n",
       "    <tr style=\"text-align: right;\">\n",
       "      <th></th>\n",
       "      <th>request</th>\n",
       "      <th>count</th>\n",
       "    </tr>\n",
       "  </thead>\n",
       "  <tbody>\n",
       "    <tr>\n",
       "      <th>0</th>\n",
       "      <td></td>\n",
       "      <td>1</td>\n",
       "    </tr>\n",
       "    <tr>\n",
       "      <th>1</th>\n",
       "      <td>\u0005\u0001</td>\n",
       "      <td>0</td>\n",
       "    </tr>\n",
       "    <tr>\n",
       "      <th>2</th>\n",
       "      <td>//www.umcc.umich.edu</td>\n",
       "      <td>1</td>\n",
       "    </tr>\n",
       "    <tr>\n",
       "      <th>3</th>\n",
       "      <td>/</td>\n",
       "      <td>32815</td>\n",
       "    </tr>\n",
       "    <tr>\n",
       "      <th>4</th>\n",
       "      <td>/</td>\n",
       "      <td>5</td>\n",
       "    </tr>\n",
       "  </tbody>\n",
       "</table>\n",
       "</div>"
      ],
      "text/plain": [
       "                 request  count\n",
       "0                             1\n",
       "1                     \u0005\u0001      0\n",
       "2   //www.umcc.umich.edu      1\n",
       "3                      /  32815\n",
       "4                     /       5"
      ]
     },
     "execution_count": 28,
     "metadata": {},
     "output_type": "execute_result"
    }
   ],
   "source": [
    "url_count.head()"
   ]
  },
  {
   "cell_type": "markdown",
   "metadata": {},
   "source": [
    "## Найти топ-15 самых посещаемых урлов"
   ]
  },
  {
   "cell_type": "code",
   "execution_count": 29,
   "metadata": {},
   "outputs": [
    {
     "data": {
      "text/html": [
       "<div>\n",
       "<style scoped>\n",
       "    .dataframe tbody tr th:only-of-type {\n",
       "        vertical-align: middle;\n",
       "    }\n",
       "\n",
       "    .dataframe tbody tr th {\n",
       "        vertical-align: top;\n",
       "    }\n",
       "\n",
       "    .dataframe thead th {\n",
       "        text-align: right;\n",
       "    }\n",
       "</style>\n",
       "<table border=\"1\" class=\"dataframe\">\n",
       "  <thead>\n",
       "    <tr style=\"text-align: right;\">\n",
       "      <th></th>\n",
       "      <th>request</th>\n",
       "      <th>count</th>\n",
       "    </tr>\n",
       "  </thead>\n",
       "  <tbody>\n",
       "    <tr>\n",
       "      <th>16164</th>\n",
       "      <td>/images/NASA-logosmall.gif</td>\n",
       "      <td>111329</td>\n",
       "    </tr>\n",
       "    <tr>\n",
       "      <th>16150</th>\n",
       "      <td>/images/KSC-logosmall.gif</td>\n",
       "      <td>89637</td>\n",
       "    </tr>\n",
       "    <tr>\n",
       "      <th>16155</th>\n",
       "      <td>/images/MOSAIC-logosmall.gif</td>\n",
       "      <td>60466</td>\n",
       "    </tr>\n",
       "    <tr>\n",
       "      <th>16178</th>\n",
       "      <td>/images/USA-logosmall.gif</td>\n",
       "      <td>60012</td>\n",
       "    </tr>\n",
       "    <tr>\n",
       "      <th>16181</th>\n",
       "      <td>/images/WORLD-logosmall.gif</td>\n",
       "      <td>59487</td>\n",
       "    </tr>\n",
       "    <tr>\n",
       "      <th>16284</th>\n",
       "      <td>/images/ksclogo-medium.gif</td>\n",
       "      <td>58800</td>\n",
       "    </tr>\n",
       "    <tr>\n",
       "      <th>16303</th>\n",
       "      <td>/images/launch-logo.gif</td>\n",
       "      <td>40871</td>\n",
       "    </tr>\n",
       "    <tr>\n",
       "      <th>17758</th>\n",
       "      <td>/shuttle/countdown/</td>\n",
       "      <td>40266</td>\n",
       "    </tr>\n",
       "    <tr>\n",
       "      <th>16397</th>\n",
       "      <td>/ksc.html</td>\n",
       "      <td>40200</td>\n",
       "    </tr>\n",
       "    <tr>\n",
       "      <th>16291</th>\n",
       "      <td>/images/ksclogosmall.gif</td>\n",
       "      <td>33585</td>\n",
       "    </tr>\n",
       "    <tr>\n",
       "      <th>3</th>\n",
       "      <td>/</td>\n",
       "      <td>32815</td>\n",
       "    </tr>\n",
       "    <tr>\n",
       "      <th>12693</th>\n",
       "      <td>/history/apollo/images/apollo-logo1.gif</td>\n",
       "      <td>31072</td>\n",
       "    </tr>\n",
       "    <tr>\n",
       "      <th>18324</th>\n",
       "      <td>/shuttle/missions/missions.html</td>\n",
       "      <td>24857</td>\n",
       "    </tr>\n",
       "    <tr>\n",
       "      <th>13151</th>\n",
       "      <td>/htbin/cdt_main.pl</td>\n",
       "      <td>22624</td>\n",
       "    </tr>\n",
       "    <tr>\n",
       "      <th>17771</th>\n",
       "      <td>/shuttle/countdown/count.gif</td>\n",
       "      <td>22216</td>\n",
       "    </tr>\n",
       "  </tbody>\n",
       "</table>\n",
       "</div>"
      ],
      "text/plain": [
       "                                       request   count\n",
       "16164               /images/NASA-logosmall.gif  111329\n",
       "16150                /images/KSC-logosmall.gif   89637\n",
       "16155             /images/MOSAIC-logosmall.gif   60466\n",
       "16178                /images/USA-logosmall.gif   60012\n",
       "16181              /images/WORLD-logosmall.gif   59487\n",
       "16284               /images/ksclogo-medium.gif   58800\n",
       "16303                  /images/launch-logo.gif   40871\n",
       "17758                      /shuttle/countdown/   40266\n",
       "16397                                /ksc.html   40200\n",
       "16291                 /images/ksclogosmall.gif   33585\n",
       "3                                            /   32815\n",
       "12693  /history/apollo/images/apollo-logo1.gif   31072\n",
       "18324          /shuttle/missions/missions.html   24857\n",
       "13151                       /htbin/cdt_main.pl   22624\n",
       "17771             /shuttle/countdown/count.gif   22216"
      ]
     },
     "execution_count": 29,
     "metadata": {},
     "output_type": "execute_result"
    }
   ],
   "source": [
    "url_count.nlargest(15, 'count')"
   ]
  },
  {
   "cell_type": "markdown",
   "metadata": {},
   "source": [
    "## Посчитать число запросов в секунду"
   ]
  },
  {
   "cell_type": "code",
   "execution_count": 30,
   "metadata": {},
   "outputs": [],
   "source": [
    "requests_per_second = df.groupby('time') \\\n",
    "                        .agg({'request_method': 'count'}) \\\n",
    "                        .rename(columns={'request_method': 'count'}) \\\n",
    "                        .reset_index()"
   ]
  },
  {
   "cell_type": "code",
   "execution_count": 31,
   "metadata": {},
   "outputs": [
    {
     "data": {
      "text/html": [
       "<div>\n",
       "<style scoped>\n",
       "    .dataframe tbody tr th:only-of-type {\n",
       "        vertical-align: middle;\n",
       "    }\n",
       "\n",
       "    .dataframe tbody tr th {\n",
       "        vertical-align: top;\n",
       "    }\n",
       "\n",
       "    .dataframe thead th {\n",
       "        text-align: right;\n",
       "    }\n",
       "</style>\n",
       "<table border=\"1\" class=\"dataframe\">\n",
       "  <thead>\n",
       "    <tr style=\"text-align: right;\">\n",
       "      <th></th>\n",
       "      <th>time</th>\n",
       "      <th>count</th>\n",
       "    </tr>\n",
       "  </thead>\n",
       "  <tbody>\n",
       "    <tr>\n",
       "      <th>0</th>\n",
       "      <td>1995-07-01 00:00:01-04:00</td>\n",
       "      <td>1</td>\n",
       "    </tr>\n",
       "    <tr>\n",
       "      <th>1</th>\n",
       "      <td>1995-07-01 00:00:06-04:00</td>\n",
       "      <td>1</td>\n",
       "    </tr>\n",
       "    <tr>\n",
       "      <th>2</th>\n",
       "      <td>1995-07-01 00:00:09-04:00</td>\n",
       "      <td>1</td>\n",
       "    </tr>\n",
       "    <tr>\n",
       "      <th>3</th>\n",
       "      <td>1995-07-01 00:00:11-04:00</td>\n",
       "      <td>2</td>\n",
       "    </tr>\n",
       "    <tr>\n",
       "      <th>4</th>\n",
       "      <td>1995-07-01 00:00:12-04:00</td>\n",
       "      <td>3</td>\n",
       "    </tr>\n",
       "  </tbody>\n",
       "</table>\n",
       "</div>"
      ],
      "text/plain": [
       "                       time  count\n",
       "0 1995-07-01 00:00:01-04:00      1\n",
       "1 1995-07-01 00:00:06-04:00      1\n",
       "2 1995-07-01 00:00:09-04:00      1\n",
       "3 1995-07-01 00:00:11-04:00      2\n",
       "4 1995-07-01 00:00:12-04:00      3"
      ]
     },
     "execution_count": 31,
     "metadata": {},
     "output_type": "execute_result"
    }
   ],
   "source": [
    "requests_per_second.head()"
   ]
  },
  {
   "cell_type": "code",
   "execution_count": 32,
   "metadata": {},
   "outputs": [
    {
     "data": {
      "text/html": [
       "<div>\n",
       "<style scoped>\n",
       "    .dataframe tbody tr th:only-of-type {\n",
       "        vertical-align: middle;\n",
       "    }\n",
       "\n",
       "    .dataframe tbody tr th {\n",
       "        vertical-align: top;\n",
       "    }\n",
       "\n",
       "    .dataframe thead th {\n",
       "        text-align: right;\n",
       "    }\n",
       "</style>\n",
       "<table border=\"1\" class=\"dataframe\">\n",
       "  <thead>\n",
       "    <tr style=\"text-align: right;\">\n",
       "      <th></th>\n",
       "      <th>time</th>\n",
       "      <th>count</th>\n",
       "    </tr>\n",
       "  </thead>\n",
       "  <tbody>\n",
       "    <tr>\n",
       "      <th>546758</th>\n",
       "      <td>1995-07-13 13:32:58-04:00</td>\n",
       "      <td>20</td>\n",
       "    </tr>\n",
       "    <tr>\n",
       "      <th>534798</th>\n",
       "      <td>1995-07-13 09:42:19-04:00</td>\n",
       "      <td>18</td>\n",
       "    </tr>\n",
       "    <tr>\n",
       "      <th>546759</th>\n",
       "      <td>1995-07-13 13:32:59-04:00</td>\n",
       "      <td>18</td>\n",
       "    </tr>\n",
       "    <tr>\n",
       "      <th>534799</th>\n",
       "      <td>1995-07-13 09:42:20-04:00</td>\n",
       "      <td>17</td>\n",
       "    </tr>\n",
       "    <tr>\n",
       "      <th>444841</th>\n",
       "      <td>1995-07-11 14:47:44-04:00</td>\n",
       "      <td>16</td>\n",
       "    </tr>\n",
       "    <tr>\n",
       "      <th>531074</th>\n",
       "      <td>1995-07-13 08:35:02-04:00</td>\n",
       "      <td>16</td>\n",
       "    </tr>\n",
       "    <tr>\n",
       "      <th>535117</th>\n",
       "      <td>1995-07-13 09:49:30-04:00</td>\n",
       "      <td>16</td>\n",
       "    </tr>\n",
       "    <tr>\n",
       "      <th>208443</th>\n",
       "      <td>1995-07-05 16:29:15-04:00</td>\n",
       "      <td>15</td>\n",
       "    </tr>\n",
       "    <tr>\n",
       "      <th>489061</th>\n",
       "      <td>1995-07-12 13:39:35-04:00</td>\n",
       "      <td>15</td>\n",
       "    </tr>\n",
       "    <tr>\n",
       "      <th>532233</th>\n",
       "      <td>1995-07-13 08:56:34-04:00</td>\n",
       "      <td>15</td>\n",
       "    </tr>\n",
       "    <tr>\n",
       "      <th>533948</th>\n",
       "      <td>1995-07-13 09:27:16-04:00</td>\n",
       "      <td>15</td>\n",
       "    </tr>\n",
       "    <tr>\n",
       "      <th>534312</th>\n",
       "      <td>1995-07-13 09:34:06-04:00</td>\n",
       "      <td>15</td>\n",
       "    </tr>\n",
       "    <tr>\n",
       "      <th>704457</th>\n",
       "      <td>1995-07-17 14:20:57-04:00</td>\n",
       "      <td>15</td>\n",
       "    </tr>\n",
       "    <tr>\n",
       "      <th>195100</th>\n",
       "      <td>1995-07-05 11:41:10-04:00</td>\n",
       "      <td>14</td>\n",
       "    </tr>\n",
       "    <tr>\n",
       "      <th>488833</th>\n",
       "      <td>1995-07-12 13:34:59-04:00</td>\n",
       "      <td>14</td>\n",
       "    </tr>\n",
       "  </tbody>\n",
       "</table>\n",
       "</div>"
      ],
      "text/plain": [
       "                            time  count\n",
       "546758 1995-07-13 13:32:58-04:00     20\n",
       "534798 1995-07-13 09:42:19-04:00     18\n",
       "546759 1995-07-13 13:32:59-04:00     18\n",
       "534799 1995-07-13 09:42:20-04:00     17\n",
       "444841 1995-07-11 14:47:44-04:00     16\n",
       "531074 1995-07-13 08:35:02-04:00     16\n",
       "535117 1995-07-13 09:49:30-04:00     16\n",
       "208443 1995-07-05 16:29:15-04:00     15\n",
       "489061 1995-07-12 13:39:35-04:00     15\n",
       "532233 1995-07-13 08:56:34-04:00     15\n",
       "533948 1995-07-13 09:27:16-04:00     15\n",
       "534312 1995-07-13 09:34:06-04:00     15\n",
       "704457 1995-07-17 14:20:57-04:00     15\n",
       "195100 1995-07-05 11:41:10-04:00     14\n",
       "488833 1995-07-12 13:34:59-04:00     14"
      ]
     },
     "execution_count": 32,
     "metadata": {},
     "output_type": "execute_result"
    }
   ],
   "source": [
    "requests_per_second.nlargest(15, 'count')"
   ]
  },
  {
   "cell_type": "markdown",
   "metadata": {},
   "source": [
    "## Нарисовать график числа запросов в секунду"
   ]
  },
  {
   "cell_type": "markdown",
   "metadata": {},
   "source": [
    "### Loading modules"
   ]
  },
  {
   "cell_type": "code",
   "execution_count": 33,
   "metadata": {},
   "outputs": [],
   "source": [
    "import matplotlib.pyplot as plt\n",
    "import seaborn as sns\n",
    "from pandas.plotting import register_matplotlib_converters\n",
    "\n",
    "register_matplotlib_converters()\n",
    "\n",
    "sns.set(rc={'figure.figsize': (9, 6)})\n",
    "%matplotlib inline\n",
    "%config InlineBackend.figure_format = 'retina'"
   ]
  },
  {
   "cell_type": "code",
   "execution_count": 34,
   "metadata": {},
   "outputs": [
    {
     "data": {
      "image/png": "[encoded data removed]",
      "text/plain": [
       "<Figure size 432x288 with 1 Axes>"
      ]
     },
     "metadata": {
      "image/png": {
       "height": 309,
       "width": 414
      },
      "needs_background": "light"
     },
     "output_type": "display_data"
    }
   ],
   "source": [
    "register_matplotlib_converters()\n",
    "plt.plot(requests_per_second['time'], requests_per_second['count'])\n",
    "plt.xlabel('Time')\n",
    "plt.ylabel('Count')\n",
    "plt.xticks(rotation=45)\n",
    "plt.show()"
   ]
  },
  {
   "cell_type": "markdown",
   "metadata": {},
   "source": [
    "## Построить гистограмму распределения размеров запросов"
   ]
  },
  {
   "cell_type": "code",
   "execution_count": 35,
   "metadata": {},
   "outputs": [
    {
     "data": {
      "image/png": "[encoded data removed]",
      "text/plain": [
       "<Figure size 432x288 with 1 Axes>"
      ]
     },
     "metadata": {
      "image/png": {
       "height": 290,
       "width": 378
      },
      "needs_background": "light"
     },
     "output_type": "display_data"
    }
   ],
   "source": [
    "df.size_of_object.hist(log=True)\n",
    "plt.xticks(rotation='vertical')\n",
    "plt.show()"
   ]
  }
 ],
 "metadata": {
  "kernelspec": {
   "display_name": "Python 3",
   "language": "python",
   "name": "python3"
  },
  "language_info": {
   "codemirror_mode": {
    "name": "ipython",
    "version": 3
   },
   "file_extension": ".py",
   "mimetype": "text/x-python",
   "name": "python",
   "nbconvert_exporter": "python",
   "pygments_lexer": "ipython3",
   "version": "3.7.3"
  },
  "toc": {
   "base_numbering": 1,
   "nav_menu": {},
   "number_sections": true,
   "sideBar": true,
   "skip_h1_title": false,
   "title_cell": "Table of Contents",
   "title_sidebar": "Contents",
   "toc_cell": false,
   "toc_position": {
    "height": "calc(100% - 180px)",
    "left": "10px",
    "top": "150px",
    "width": "320px"
   },
   "toc_section_display": true,
   "toc_window_display": false
  },
  "varInspector": {
   "cols": {
    "lenName": 16,
    "lenType": 16,
    "lenVar": 40
   },
   "kernels_config": {
    "python": {
     "delete_cmd_postfix": "",
     "delete_cmd_prefix": "del ",
     "library": "var_list.py",
     "varRefreshCmd": "print(var_dic_list())"
    },
    "r": {
     "delete_cmd_postfix": ") ",
     "delete_cmd_prefix": "rm(",
     "library": "var_list.r",
     "varRefreshCmd": "cat(var_dic_list()) "
    }
   },
   "position": {
    "height": "656px",
    "left": "1094px",
    "right": "20px",
    "top": "116px",
    "width": "492px"
   },
   "types_to_exclude": [
    "module",
    "function",
    "builtin_function_or_method",
    "instance",
    "_Feature"
   ],
   "window_display": false
  }
 },
 "nbformat": 4,
 "nbformat_minor": 2
}
